{
 "cells": [
  {
   "cell_type": "code",
   "execution_count": 5,
   "id": "226334dc",
   "metadata": {},
   "outputs": [],
   "source": [
    "# Import Files using Pathlib\n",
    "\n",
    "import csv\n",
    "from pathlib import Path\n",
    "\n",
    "in_file = Path.cwd() / \"budget_data.csv\"\n",
    "out_file = Path.cwd() / \"budget_analysis\"\n",
    "\n",
    "# Declare Variables\n",
    "\n",
    "total_months = 0\n",
    "month_change = []\n",
    "net_change_list = []\n",
    "max_increase = [\"\",0]\n",
    "max_decrease = [\"\",99999999999]\n",
    "total_net=0\n",
    "\n",
    "# Extract Data and Calculate Increase\n",
    "\n",
    "with open(in_file) as fin_data:\n",
    "    reader = csv.reader(fin_data)\n",
    "    header = next(reader)\n",
    "    first_row= next(reader)\n",
    "    total_months = total_months + 1\n",
    "    total_net = total_net + int(first_row[1])\n",
    "    prev_net = int(first_row[1])\n",
    "    \n",
    "    for row in reader:\n",
    "        \n",
    "        total_months = total_months + 1\n",
    "        total_net = total_net + int(row[1])\n",
    "        net_change = int(row[1]) - prev_net\n",
    "        prev_net = int(row[1])\n",
    "        net_change_list = net_change_list + [net_change]\n",
    "        month_change = month_change + [row[0]]\n",
    "        \n",
    "        if net_change > max_increase[1]:\n",
    "            max_increase[0] = row[0]\n",
    "            max_increase[1] = net_change\n",
    "\n",
    "# Find Average\n",
    "\n",
    "net_monthly_avg = round(sum(net_change_list)/len(net_change_list),2)\n",
    "\n",
    "# Write Analysis as a Text File\n",
    "\n",
    "with open(out_file,\"x\") as txt_file:\n",
    "    txt_file.write(f'Financial Analysis\\n')\n",
    "    txt_file.write(\"----------------------------\\n\")\n",
    "    txt_file.write(f\"Total Months: {(total_months)}\\n\")\n",
    "    txt_file.write(f\"Total: ${(total_net)}\\n\")\n",
    "    txt_file.write(f\"Average Change: ${net_monthly_avg}\\n\")\n",
    "    txt_file.write(f\"Greatest Increase in Profits: {max_increase[0]} ${max_increase[1]}\\n\")\n",
    "    txt_file.write(f\"Greatest Decrease in Profits: {max_increase[0]} ${max_increase[1]}\\n\")\n",
    "\n",
    "\n"
   ]
  },
  {
   "cell_type": "code",
   "execution_count": null,
   "id": "8551297f",
   "metadata": {},
   "outputs": [],
   "source": []
  },
  {
   "cell_type": "code",
   "execution_count": null,
   "id": "1ca2f24b",
   "metadata": {},
   "outputs": [],
   "source": []
  }
 ],
 "metadata": {
  "kernelspec": {
   "display_name": "Python 3 (ipykernel)",
   "language": "python",
   "name": "python3"
  },
  "language_info": {
   "codemirror_mode": {
    "name": "ipython",
    "version": 3
   },
   "file_extension": ".py",
   "mimetype": "text/x-python",
   "name": "python",
   "nbconvert_exporter": "python",
   "pygments_lexer": "ipython3",
   "version": "3.9.7"
  }
 },
 "nbformat": 4,
 "nbformat_minor": 5
}
