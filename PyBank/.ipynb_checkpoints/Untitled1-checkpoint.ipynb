{
 "cells": [
  {
   "cell_type": "code",
   "execution_count": 12,
   "id": "226334dc",
   "metadata": {},
   "outputs": [
    {
     "ename": "NameError",
     "evalue": "name 'PyBank' is not defined",
     "output_type": "error",
     "traceback": [
      "\u001b[0;31m---------------------------------------------------------------------------\u001b[0m",
      "\u001b[0;31mNameError\u001b[0m                                 Traceback (most recent call last)",
      "\u001b[0;32m/var/folders/1f/k19b_x_j235927z5vgk2kk4r0000gn/T/ipykernel_14689/1538819016.py\u001b[0m in \u001b[0;36m<module>\u001b[0;34m\u001b[0m\n\u001b[1;32m      2\u001b[0m \u001b[0;32mfrom\u001b[0m \u001b[0mpathlib\u001b[0m \u001b[0;32mimport\u001b[0m \u001b[0mPath\u001b[0m\u001b[0;34m\u001b[0m\u001b[0;34m\u001b[0m\u001b[0m\n\u001b[1;32m      3\u001b[0m \u001b[0;34m\u001b[0m\u001b[0m\n\u001b[0;32m----> 4\u001b[0;31m \u001b[0mfile_load\u001b[0m \u001b[0;34m=\u001b[0m \u001b[0mPath\u001b[0m\u001b[0;34m(\u001b[0m\u001b[0mPyBank\u001b[0m\u001b[0;34m//\u001b[0m\u001b[0mbudget_data\u001b[0m\u001b[0;34m.\u001b[0m\u001b[0mcsv\u001b[0m\u001b[0;34m)\u001b[0m\u001b[0;34m\u001b[0m\u001b[0;34m\u001b[0m\u001b[0m\n\u001b[0m\u001b[1;32m      5\u001b[0m \u001b[0mfile_output\u001b[0m \u001b[0;34m=\u001b[0m \u001b[0mPath\u001b[0m\u001b[0;34m(\u001b[0m\u001b[0mAnalysis\u001b[0m\u001b[0;34m/\u001b[0m\u001b[0mbudget_analysis\u001b[0m\u001b[0;34m.\u001b[0m\u001b[0mcsv\u001b[0m\u001b[0;34m)\u001b[0m\u001b[0;34m\u001b[0m\u001b[0;34m\u001b[0m\u001b[0m\n\u001b[1;32m      6\u001b[0m \u001b[0;34m\u001b[0m\u001b[0m\n",
      "\u001b[0;31mNameError\u001b[0m: name 'PyBank' is not defined"
     ]
    }
   ],
   "source": [
    "import csv\n",
    "from pathlib import Path\n",
    "\n",
    "file_load = Path(PyBank//budget_data.csv)\n",
    "file_output = Path(Analysis/budget_analysis.csv)\n",
    "\n",
    "total_months = 0\n",
    "month_change = []\n",
    "net_change_list = []\n",
    "max_increase = [\"\",0]\n",
    "max_decrease = [\"\",99999999999]\n",
    "\n",
    "with open(file_to_load) as fin_data:\n",
    "    reader = csv.reader(fin_data)\n",
    "    header = next(reader)\n",
    "    first_row= next(reader)\n",
    "    total_months = total_months + 1\n",
    "    total_net = total_net + int(first_row[1])\n",
    "    prev_net = int(first_row[1])\n",
    "    \n",
    "    for row in reader:\n",
    "        \n",
    "        total_months = total_months + 1\n",
    "        total_net = total_net + int(row[1])\n",
    "        net_change = int(row[1] - prev_net)\n",
    "        prev_net = int(row[1])\n",
    "        net_change_list = net_change_list + [net_change]\n",
    "        month_change = month_change + [row[0]]\n",
    "        \n",
    "        if net_change > max_inrease[1]:\n",
    "            greatest_increase[0] = row[0]\n",
    "            greatest_increase[1] = net_change\n",
    "\n",
    "net_monthly_avg = round(sum(net_change_list)/len(net_change_list),2)\n",
    "\n",
    "with open(file_to_output,\"w\") as txt_file:\n",
    "    txt_file.write(f'Financial Analysis\\n')\n",
    "    txt_file.write(\"----------------------------\")\n",
    "    txt_file.write(f\"Total Months: {(num_months)}\")\n",
    "    txt_file.write(f\"Total: ${(net_total)}\")\n",
    "    txt_file.write(f\"Average Change: {average}\")\n",
    "    txt_file.write(f\"Greatest Increase in Profits: {max_increase[0]}\") ({max_increase[1]})\n",
    "    txt_file.write(f\"Greatest Decrease in Profits: {min_increase[0]}\") ({max_increase[1]})\n",
    "\n",
    "\n"
   ]
  },
  {
   "cell_type": "code",
   "execution_count": null,
   "id": "8551297f",
   "metadata": {},
   "outputs": [],
   "source": []
  }
 ],
 "metadata": {
  "kernelspec": {
   "display_name": "Python 3 (ipykernel)",
   "language": "python",
   "name": "python3"
  },
  "language_info": {
   "codemirror_mode": {
    "name": "ipython",
    "version": 3
   },
   "file_extension": ".py",
   "mimetype": "text/x-python",
   "name": "python",
   "nbconvert_exporter": "python",
   "pygments_lexer": "ipython3",
   "version": "3.9.7"
  }
 },
 "nbformat": 4,
 "nbformat_minor": 5
}
