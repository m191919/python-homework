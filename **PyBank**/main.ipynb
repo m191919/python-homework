{
 "cells": [
  {
   "cell_type": "code",
   "execution_count": 85,
   "id": "f51fc66b-11c1-40b8-b647-9c24b5aa6b64",
   "metadata": {},
   "outputs": [
    {
     "ename": "SyntaxError",
     "evalue": "invalid syntax (3350704212.py, line 69)",
     "output_type": "error",
     "traceback": [
      "\u001b[0;36m  File \u001b[0;32m\"/var/folders/1f/k19b_x_j235927z5vgk2kk4r0000gn/T/ipykernel_972/3350704212.py\"\u001b[0;36m, line \u001b[0;32m69\u001b[0m\n\u001b[0;31m    python main.py > analysis_results.txt\u001b[0m\n\u001b[0m           ^\u001b[0m\n\u001b[0;31mSyntaxError\u001b[0m\u001b[0;31m:\u001b[0m invalid syntax\n"
     ]
    }
   ],
   "source": [
    "#Import CSV with Pandas\n",
    "\n",
    "import pandas as pd\n",
    "\n",
    "data_df = pd.read_csv (\"budget_data.csv\")\n",
    "\n",
    "#Create Dict with Dates\n",
    "\n",
    "Dates = data_df [\"Date\"]\n",
    "PnL = data_df [\"Profit/Losses\"]\n",
    "\n",
    "#Declare Variables\n",
    "\n",
    "num_months = 0\n",
    "net_total = 0\n",
    "average = 0\n",
    "max_value = 0\n",
    "min_value = 0\n",
    "max_date = []\n",
    "min_date = []\n",
    "\n",
    "# Set Values\n",
    "\n",
    "num_months = len(Dates)\n",
    "\n",
    "# Net Total\n",
    "\n",
    "for x in PnL:\n",
    "   net_total = net_total + x\n",
    "\n",
    "\n",
    "# Average\n",
    "\n",
    "average = round((net_total/num_months),2)\n",
    "\n",
    "\n",
    "# Maximum Value\n",
    "\n",
    "max_value = PnL.max()\n",
    "\n",
    "print(max_value)\n",
    "\n",
    "# Minimum Value\n",
    "\n",
    "min_value = PnL.min()\n",
    "\n",
    "print(min_value)\n",
    "\n",
    "# Maximum Date\n",
    "\n",
    "print(max_date)\n",
    "\n",
    "# Minimum Date\n",
    "\n",
    "\n",
    "# Financial Analysis\n",
    "\n",
    "print(\"Financial Analysis\")\n",
    "print(\"----------------------------\")\n",
    "print(f\"Total Months: {(num_months)}\")\n",
    "print(f\"Total: ${(net_total)}\")\n",
    "print(f\"Average Change: {average}\")\n",
    "print(f\"Greatest Increase in Profits: {max_value}\")\n",
    "print(f\"Greatest Decrease in Profits: {min_value}\")\n",
    "\n",
    "\n",
    "# Output File\n",
    "\n",
    "python main.py > analysis_results.txt\n",
    "\n",
    "\n",
    "\n",
    "\n",
    "\n"
   ]
  },
  {
   "cell_type": "markdown",
   "id": "464b56c9",
   "metadata": {},
   "source": []
  },
  {
   "cell_type": "code",
   "execution_count": null,
   "id": "27125656",
   "metadata": {},
   "outputs": [],
   "source": []
  },
  {
   "cell_type": "code",
   "execution_count": null,
   "id": "1b9d5333",
   "metadata": {},
   "outputs": [],
   "source": []
  }
 ],
 "metadata": {
  "kernelspec": {
   "display_name": "Python 3 (ipykernel)",
   "language": "python",
   "name": "python3"
  },
  "language_info": {
   "codemirror_mode": {
    "name": "ipython",
    "version": 3
   },
   "file_extension": ".py",
   "mimetype": "text/x-python",
   "name": "python",
   "nbconvert_exporter": "python",
   "pygments_lexer": "ipython3",
   "version": "3.9.7"
  }
 },
 "nbformat": 4,
 "nbformat_minor": 5
}
