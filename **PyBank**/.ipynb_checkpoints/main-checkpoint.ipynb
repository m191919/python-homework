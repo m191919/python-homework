{
 "cells": [
  {
   "cell_type": "code",
   "execution_count": 22,
   "id": "f51fc66b-11c1-40b8-b647-9c24b5aa6b64",
   "metadata": {},
   "outputs": [
    {
     "name": "stdout",
     "output_type": "stream",
     "text": [
      "671099\n"
     ]
    }
   ],
   "source": [
    "#Import CSV with Pandas\n",
    "\n",
    "import pandas as pd\n",
    "\n",
    "data_df = pd.read_csv (\"budget_data.csv\")\n",
    "\n",
    "#Create Dict with Dates\n",
    "\n",
    "Dates = data_df [\"Date\"]\n",
    "PnL = data_df [\"Profit/Losses\"]\n",
    "\n",
    "#Declare Variables\n",
    "\n",
    "num_months = 0\n",
    "net_total = 0\n",
    "average = 0\n",
    "maximum = 0\n",
    "minimum = 0\n",
    "max_date = []\n",
    "min_date = []\n",
    "\n",
    "# Set Values\n",
    "\n",
    "num_months = len(Dates)\n",
    "\n",
    "# net_total\n",
    "\n",
    "for x in PnL:\n",
    "   net_total =  x\n",
    "\n",
    "print(net_total)"
   ]
  },
  {
   "cell_type": "code",
   "execution_count": null,
   "id": "4b467961",
   "metadata": {},
   "outputs": [],
   "source": []
  },
  {
   "cell_type": "code",
   "execution_count": null,
   "id": "9efb1684",
   "metadata": {},
   "outputs": [],
   "source": []
  }
 ],
 "metadata": {
  "kernelspec": {
   "display_name": "Python 3 (ipykernel)",
   "language": "python",
   "name": "python3"
  },
  "language_info": {
   "codemirror_mode": {
    "name": "ipython",
    "version": 3
   },
   "file_extension": ".py",
   "mimetype": "text/x-python",
   "name": "python",
   "nbconvert_exporter": "python",
   "pygments_lexer": "ipython3",
   "version": "3.9.7"
  }
 },
 "nbformat": 4,
 "nbformat_minor": 5
}
